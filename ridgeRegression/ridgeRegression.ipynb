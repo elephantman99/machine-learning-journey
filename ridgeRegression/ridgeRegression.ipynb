{
 "cells": [
  {
   "cell_type": "code",
   "execution_count": 1,
   "metadata": {},
   "outputs": [],
   "source": [
    "# useful starting line\n",
    "%matplotlib inline\n",
    "import numpy as np\n",
    "import matplotlib.pyplot as plt\n",
    "%load_ext autoreload\n",
    "%autoreload 2"
   ]
  },
  {
   "cell_type": "code",
   "execution_count": 2,
   "metadata": {},
   "outputs": [
    {
     "name": "stdout",
     "output_type": "stream",
     "text": [
      "/home/mbanga/Documents/Epfl/ml_revisions\n"
     ]
    }
   ],
   "source": [
    "cd ../"
   ]
  },
  {
   "cell_type": "markdown",
   "metadata": {},
   "source": [
    "# Load data"
   ]
  },
  {
   "cell_type": "code",
   "execution_count": 3,
   "metadata": {},
   "outputs": [
    {
     "name": "stdout",
     "output_type": "stream",
     "text": [
      "shape of x (50,)\n",
      "shape of y (50,)\n"
     ]
    }
   ],
   "source": [
    "from leastSquares.helpers import load_data\n",
    "from linearRegression_gradientDescent import costs as cts\n",
    "# load dataset\n",
    "x, y = load_data()\n",
    "print(\"shape of x {v}\".format(v=x.shape))\n",
    "print(\"shape of y {v}\".format(v=y.shape))"
   ]
  },
  {
   "cell_type": "code",
   "execution_count": 5,
   "metadata": {},
   "outputs": [],
   "source": [
    "def ridge_regression(y, tx, lambda_):\n",
    "    \"\"\"implement ridge regression.\"\"\"\n",
    "    D = tx.shape[1]\n",
    "    ws = np.linalg.inv(tx.T @ tx + lambda_ * np.identity(D)) @ tx.T @ y\n",
    "    loss = cts.ridge_mse(y, tx, ws, lambda_)\n",
    "    return loss, ws"
   ]
  },
  {
   "cell_type": "code",
   "execution_count": 10,
   "metadata": {},
   "outputs": [],
   "source": [
    "from splitData.split import split_data\n",
    "from leastSquares.plots import plot_train_test\n",
    "from leastSquares.build_polynomial import build_poly\n",
    "\n",
    "def ridge_regression_demo(x, y, degree, ratio, seed, shuffle):\n",
    "    \"\"\"ridge regression demo.\"\"\"\n",
    "    # define parameter\n",
    "    lambdas = np.logspace(-5, 0, num=15, endpoint=True, base=10.0)\n",
    "    \n",
    "    # split the data into training and testing\n",
    "    data_train, data_test = split_data(x, y, ratio, seed, shuffle)\n",
    "\n",
    "    # get features and targets\n",
    "    x_train, y_train = data_train\n",
    "    x_train = build_poly(x_train, degree) # feature augmentation\n",
    "    \n",
    "    x_test, y_test = data_test\n",
    "    x_test = build_poly(x_test, degree)    \n",
    "\n",
    "    rmse_train = []\n",
    "    rmse_test  = []\n",
    "    for ind, lambda_ in enumerate(lambdas):\n",
    "        # ridge regression with a given lambda\n",
    "        loss, ws = ridge_regression(y_train, x_train, lambda_)\n",
    "        \n",
    "        rmse_train.append(loss)\n",
    "        rmse_test.append(cts.ridge_mse(y_test, x_test, ws, lambda_))\n",
    "        \n",
    "        print(\"proportion={p}, degree={d}, lambda={l:.3f}, Training RMSE={tr:.3f}, Testing RMSE={te:.3f}\".format(\n",
    "               p=ratio, d=degree, l=lambda_, tr=rmse_train[ind], te=rmse_test[ind]))\n",
    "        \n",
    "    # Plot the obtained results\n",
    "    plot_train_test(rmse_train, rmse_test, lambdas, degree)"
   ]
  },
  {
   "cell_type": "code",
   "execution_count": 12,
   "metadata": {},
   "outputs": [
    {
     "name": "stdout",
     "output_type": "stream",
     "text": [
      "proportion=0.5, degree=7, lambda=0.000, Training RMSE=0.026, Testing RMSE=0.058\n",
      "proportion=0.5, degree=7, lambda=0.000, Training RMSE=0.027, Testing RMSE=0.059\n",
      "proportion=0.5, degree=7, lambda=0.000, Training RMSE=0.031, Testing RMSE=0.062\n",
      "proportion=0.5, degree=7, lambda=0.000, Training RMSE=0.038, Testing RMSE=0.068\n",
      "proportion=0.5, degree=7, lambda=0.000, Training RMSE=0.046, Testing RMSE=0.074\n",
      "proportion=0.5, degree=7, lambda=0.001, Training RMSE=0.051, Testing RMSE=0.077\n",
      "proportion=0.5, degree=7, lambda=0.001, Training RMSE=0.048, Testing RMSE=0.074\n",
      "proportion=0.5, degree=7, lambda=0.003, Training RMSE=0.042, Testing RMSE=0.068\n",
      "proportion=0.5, degree=7, lambda=0.007, Training RMSE=0.037, Testing RMSE=0.065\n",
      "proportion=0.5, degree=7, lambda=0.016, Training RMSE=0.038, Testing RMSE=0.066\n",
      "proportion=0.5, degree=7, lambda=0.037, Training RMSE=0.046, Testing RMSE=0.074\n",
      "proportion=0.5, degree=7, lambda=0.085, Training RMSE=0.064, Testing RMSE=0.092\n",
      "proportion=0.5, degree=7, lambda=0.193, Training RMSE=0.102, Testing RMSE=0.129\n",
      "proportion=0.5, degree=7, lambda=0.439, Training RMSE=0.182, Testing RMSE=0.206\n",
      "proportion=0.5, degree=7, lambda=1.000, Training RMSE=0.332, Testing RMSE=0.349\n"
     ]
    },
    {
     "data": {
      "image/png": "[encoded data removed]",
      "text/plain": [
       "<Figure size 432x288 with 1 Axes>"
      ]
     },
     "metadata": {
      "needs_background": "light"
     },
     "output_type": "display_data"
    }
   ],
   "source": [
    "# define a few parameters\n",
    "degree = 7\n",
    "ratio  = .5\n",
    "seed   = 1\n",
    "shuffle = True\n",
    "\n",
    "ridge_regression_demo(x, y, degree, ratio, seed, shuffle)"
   ]
  }
 ],
 "metadata": {
  "kernelspec": {
   "display_name": "Python 3",
   "language": "python",
   "name": "python3"
  },
  "language_info": {
   "codemirror_mode": {
    "name": "ipython",
    "version": 3
   },
   "file_extension": ".py",
   "mimetype": "text/x-python",
   "name": "python",
   "nbconvert_exporter": "python",
   "pygments_lexer": "ipython3",
   "version": "3.7.3"
  }
 },
 "nbformat": 4,
 "nbformat_minor": 2
}
