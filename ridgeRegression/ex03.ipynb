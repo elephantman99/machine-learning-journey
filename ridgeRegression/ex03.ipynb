{
 "cells": [
  {
   "cell_type": "code",
   "execution_count": 8,
   "metadata": {},
   "outputs": [
    {
     "name": "stdout",
     "output_type": "stream",
     "text": [
      "The autoreload extension is already loaded. To reload it, use:\n",
      "  %reload_ext autoreload\n"
     ]
    }
   ],
   "source": [
    "# Useful starting lines\n",
    "%matplotlib inline\n",
    "import numpy as np\n",
    "import matplotlib.pyplot as plt\n",
    "%load_ext autoreload\n",
    "%autoreload 2"
   ]
  },
  {
   "cell_type": "code",
   "execution_count": 9,
   "metadata": {},
   "outputs": [
    {
     "name": "stdout",
     "output_type": "stream",
     "text": [
      "/home/mbanga/Epfl/MachineLearning/ML_course/labs\n"
     ]
    }
   ],
   "source": [
    "cd ~/Epfl/MachineLearning/ML_course/labs"
   ]
  },
  {
   "cell_type": "markdown",
   "metadata": {},
   "source": [
    "# 1 Least squares and linear basis functions models\n",
    "## 1.1 Least squares"
   ]
  },
  {
   "cell_type": "code",
   "execution_count": 10,
   "metadata": {
    "collapsed": true
   },
   "outputs": [],
   "source": [
    "import ex02.template.costs as cts\n",
    "import ex02.template.grid_search as grid_search\n",
    "import ex02.template.plots as plots\n",
    "import datetime\n",
    "from ex03.template.helpers import *"
   ]
  },
  {
   "cell_type": "code",
   "execution_count": 11,
   "metadata": {
    "collapsed": true
   },
   "outputs": [],
   "source": [
    "def least_squares(y, tx):\n",
    "    \"\"\"calculate the least squares solution.\"\"\"\n",
    "    # least squares\n",
    "    # returns mse, and optimal weights\n",
    "    \n",
    "    # calculate the SVD decomposition\n",
    "    U, s, V = np.linalg.svd(tx, full_matrices=True, compute_uv=True)\n",
    "    N = len(U)\n",
    "    D = len(V)\n",
    "    lambdas = len(s)\n",
    "    \n",
    "    # Construct S (U*S*V = tx) and its pseudo-inverse Sinv\n",
    "    S = np.zeros((N, D))\n",
    "    S[:lambdas, :lambdas] = np.diag(s)\n",
    "    Sinv = np.zeros((D, N))\n",
    "    Sinv[:lambdas, :lambdas] = np.diag(1/s)\n",
    "    \n",
    "    # calculate the best approximation\n",
    "    w = np.dot(np.dot(np.dot(V.T, Sinv), U.T), y)\n",
    "    \n",
    "    # calculate the mse for the best approximation\n",
    "    loss = cts.compute_mse(y, tx, w)\n",
    "    \n",
    "    return w, loss"
   ]
  },
  {
   "cell_type": "markdown",
   "metadata": {},
   "source": [
    "### Load the data\n",
    "Here we will reuse the dataset `height_weight_genders.csv` from previous exercise section to check the correctness of your implementation. Please compare it with your previous result."
   ]
  },
  {
   "cell_type": "code",
   "execution_count": 12,
   "metadata": {
    "collapsed": true
   },
   "outputs": [],
   "source": [
    "def test_your_least_squares():\n",
    "    height, weight, gender = load_data_from_ex02(sub_sample=False, add_outlier=False)\n",
    "    x, mean_x, std_x = standardize(height)\n",
    "    y, tx = build_model_data(x, weight)\n",
    "    # ***************************************************\n",
    "    # Grid Search\n",
    "    # ***************************************************\n",
    "    \n",
    "    # Generate the grid of parameters to be swept\n",
    "    grid_w0, grid_w1 = grid_search.generate_w(num_intervals=10)\n",
    "    \n",
    "    # Start the grid search\n",
    "    grid_start_time = datetime.datetime.now()\n",
    "    grid_losses = grid_search.grid_search(y, tx, grid_w0, grid_w1)\n",
    "\n",
    "    # Select the best combinaison\n",
    "    grid_loss_star, grid_w0_star, grid_w1_star = grid_search.get_best_parameters(grid_w0, grid_w1, grid_losses)\n",
    "    grid_end_time = datetime.datetime.now()\n",
    "    grid_execution_time = (grid_end_time - grid_start_time).total_seconds()\n",
    "    \n",
    "    # Print the results\n",
    "    print(\"Grid Search: loss*={l}, w0*={w0}, w1*={w1}, execution time={t:.3f} seconds\".format(\n",
    "          l=grid_loss_star, w0=grid_w0_star, w1=grid_w1_star, t=grid_execution_time), \"\\n\\n\")\n",
    "    \n",
    "    # ***************************************************\n",
    "    # Least Squares\n",
    "    # ***************************************************\n",
    "    \n",
    "    # Start the least squares\n",
    "    ls_start_time = datetime.datetime.now()\n",
    "    ls_w_star, ls_loss_star = least_squares(y, tx)\n",
    "    \n",
    "    # Determine execution time\n",
    "    ls_end_time = datetime.datetime.now()\n",
    "    ls_execution_time = (ls_end_time - ls_start_time).total_seconds()\n",
    "    \n",
    "    # Print the results\n",
    "    print(\"Least Squares: loss*={l}, w0*={w0}, w1*={w1}, execution time={t:.3f} seconds\".format(\n",
    "          l=ls_loss_star, w0=ls_w_star[0], w1=ls_w_star[1], t=ls_execution_time), \"\\n\\n\")\n",
    "   \n",
    "    # ***************************************************\n",
    "    # Ridge Regression\n",
    "    # ***************************************************\n",
    "    \n",
    "    # Start the least squares\n",
    "    ridge_start_time = datetime.datetime.now()\n",
    "    ridge_w_star, ridge_loss_star = ridge_regression(y, tx, 0)\n",
    "    \n",
    "    # Determine execution time\n",
    "    ridge_end_time = datetime.datetime.now()\n",
    "    ridge_execution_time = (ridge_end_time - ridge_start_time).total_seconds()\n",
    "    \n",
    "    # Print the results\n",
    "    print(\"Ridge Regression: loss*={l}, w0*={w0}, w1*={w1}, execution time={t:.3f} seconds\".format(\n",
    "          l=ridge_loss_star, w0=ridge_w_star[0], w1=ridge_w_star[1], t=ridge_execution_time))\n",
    "    "
   ]
  },
  {
   "cell_type": "markdown",
   "metadata": {},
   "source": [
    "Test it here"
   ]
  },
  {
   "cell_type": "code",
   "execution_count": 13,
   "metadata": {},
   "outputs": [
    {
     "name": "stdout",
     "output_type": "stream",
     "text": [
      "Grid Search: loss*=42.42448314678253, w0*=66.66666666666669, w1*=16.666666666666686, execution time=0.085 seconds \n",
      "\n",
      "\n",
      "Least Squares: loss*=15.385887868829455, w0*=73.2939220021052, w1*=13.479712434989068, execution time=0.424 seconds \n",
      "\n",
      "\n",
      "Ridge Regression: loss*=15.385887868829453, w0*=73.29392200210516, w1*=13.479712434989063, execution time=0.002 seconds\n"
     ]
    }
   ],
   "source": [
    "test_your_least_squares()"
   ]
  },
  {
   "cell_type": "markdown",
   "metadata": {},
   "source": [
    "## 1.2 Least squares with a linear basis function model\n",
    "Start from this section, we will use the dataset `dataEx3.csv`.\n",
    "\n",
    "### Implement polynomial basis functions"
   ]
  },
  {
   "cell_type": "code",
   "execution_count": 14,
   "metadata": {
    "scrolled": true
   },
   "outputs": [
    {
     "name": "stdout",
     "output_type": "stream",
     "text": [
      "shape of x (50,)\n",
      "shape of y (50,)\n"
     ]
    }
   ],
   "source": [
    "# load dataset\n",
    "x, y = load_data()\n",
    "print(\"shape of x {}\".format(x.shape))\n",
    "print(\"shape of y {}\".format(y.shape))"
   ]
  },
  {
   "cell_type": "code",
   "execution_count": 15,
   "metadata": {
    "collapsed": true
   },
   "outputs": [],
   "source": [
    "def build_poly(x, degree):\n",
    "    \"\"\"polynomial basis functions for input data x, for j=0 up to j=degree.\"\"\"\n",
    "    # this function should return the matrix formed\n",
    "    # by applying the polynomial basis to the input data\n",
    "\n",
    "    tx = np.ones((len(x), 1))\n",
    "    x = x.reshape(len(x), 1)\n",
    "    for i in range(1, degree + 1):\n",
    "        tx = np.concatenate((tx, x ** i), axis=1)\n",
    "    return tx"
   ]
  },
  {
   "cell_type": "markdown",
   "metadata": {},
   "source": [
    "Let us play with polynomial regression. Note that we will use your implemented function `compute_mse`. Please copy and paste your implementation from exercise02."
   ]
  },
  {
   "cell_type": "code",
   "execution_count": 16,
   "metadata": {
    "collapsed": true
   },
   "outputs": [],
   "source": [
    "from ex02.template.costs import *\n",
    "from ex03.template.plots import *"
   ]
  },
  {
   "cell_type": "code",
   "execution_count": 17,
   "metadata": {
    "collapsed": true
   },
   "outputs": [],
   "source": [
    "def polynomial_regression():\n",
    "    \"\"\"Constructing the polynomial basis function expansion of the data,\n",
    "       and then running least squares regression.\"\"\"\n",
    "    # define parameters\n",
    "    degrees = [1, 3, 7, 12]\n",
    "    \n",
    "    # define the structure of the figure\n",
    "    num_row = 2\n",
    "    num_col = 2\n",
    "    f, axs = plt.subplots(num_row, num_col)\n",
    "\n",
    "    for ind, degree in enumerate(degrees):\n",
    "        # form the data to do polynomial regression\n",
    "        tx = build_poly(x, degree)\n",
    "\n",
    "        # least square and calculate RMSE\n",
    "        weights, l = least_squares(y, tx)\n",
    "        rmse = compute_rmse(y, tx, weights)\n",
    "\n",
    "        print(\"Processing {i}th experiment, degree={d}, rmse={loss}\".format(\n",
    "              i=ind + 1, d=degree, loss=rmse))\n",
    "        # plot fit\n",
    "        plot_fitted_curve(\n",
    "            y, x, weights, degree, axs[ind // num_col][ind % num_col])\n",
    "    plt.tight_layout()\n",
    "    plt.savefig(\"visualize_polynomial_regression\")\n",
    "    plt.show()"
   ]
  },
  {
   "cell_type": "markdown",
   "metadata": {},
   "source": [
    "Run polynomial regression"
   ]
  },
  {
   "cell_type": "code",
   "execution_count": 18,
   "metadata": {},
   "outputs": [
    {
     "name": "stdout",
     "output_type": "stream",
     "text": [
      "Processing 1th experiment, degree=1, rmse=0.47187607963421885\n",
      "Processing 2th experiment, degree=3, rmse=0.2585827766773749\n",
      "Processing 3th experiment, degree=7, rmse=0.2496587036090748\n",
      "Processing 4th experiment, degree=12, rmse=0.24032507466222977\n"
     ]
    },
    {
     "data": {
      "image/png": "[encoded data removed]",
      "text/plain": [
       "<matplotlib.figure.Figure at 0x7f98d7f11358>"
      ]
     },
     "metadata": {},
     "output_type": "display_data"
    }
   ],
   "source": [
    "polynomial_regression()"
   ]
  },
  {
   "cell_type": "markdown",
   "metadata": {},
   "source": [
    "# 2 Evaluating model predication performance\n",
    "\n",
    "\n",
    "Let us show the train and test splits for various polynomial degrees. First of all, please fill in the function `split_data()`"
   ]
  },
  {
   "cell_type": "code",
   "execution_count": 19,
   "metadata": {
    "collapsed": true
   },
   "outputs": [],
   "source": [
    "def split_data(x, y, ratio, seed=1):\n",
    "    \"\"\"\n",
    "    split the dataset based on the split ratio. If ratio is 0.8 \n",
    "    you will have 80% of your data set dedicated to training \n",
    "    and the rest dedicated to testing\n",
    "    \"\"\"\n",
    "    # set seed\n",
    "    np.random.seed(seed)\n",
    "\n",
    "    # shuffle the data\n",
    "    data_size = len(y)    \n",
    "    shuffle_indices = np.random.permutation(np.arange(data_size))\n",
    "    x = x[shuffle_indices]\n",
    "    y = y[shuffle_indices]\n",
    "    \n",
    "    # split the shuffled data based on the given ratio\n",
    "    cut = int(len(x) * ratio)\n",
    "    \n",
    "    y_training = y[:cut]; x_training = x[:cut]\n",
    "    y_testing = y[cut:];  x_testing = x[cut:]\n",
    "    \n",
    "    \n",
    "    return [x_training, y_training], [x_testing, y_testing]"
   ]
  },
  {
   "cell_type": "markdown",
   "metadata": {},
   "source": [
    "Then, test your `split_data` function below."
   ]
  },
  {
   "cell_type": "code",
   "execution_count": 20,
   "metadata": {
    "collapsed": true
   },
   "outputs": [],
   "source": [
    "def train_test_split_demo(x, y, degree, ratio, seed):\n",
    "    \"\"\"polynomial regression with different split ratios and different degrees.\"\"\"\n",
    "    # split the data, and return train and test data\n",
    "    training_data, testing_data = split_data(x, y, ratio, seed)\n",
    "    \n",
    "    # form train and test data with polynomial basis function\n",
    "    y_tr = training_data[1]\n",
    "    tx_tr = build_poly(training_data[0], degree)\n",
    "    \n",
    "    y_te = testing_data[1]\n",
    "    tx_te = build_poly(testing_data[0], degree)\n",
    "    \n",
    "    # calcualte weight through least square.\n",
    "    weights = least_squares(y_tr, tx_tr)[0]\n",
    "\n",
    "    # calculate RMSE for train and test data\n",
    "    rmse_tr = compute_rmse(y_tr, tx_tr, weights)\n",
    "    rmse_te = compute_rmse(y_te, tx_te, weights)\n",
    "    \n",
    "    # print the results\n",
    "    print(\"proportion={p}, degree={d}, Training RMSE={tr:.3f}, Testing RMSE={te:.3f}\".format(\n",
    "          p=ratio, d=degree, tr=rmse_tr, te=rmse_te))\n"
   ]
  },
  {
   "cell_type": "code",
   "execution_count": 21,
   "metadata": {},
   "outputs": [
    {
     "name": "stdout",
     "output_type": "stream",
     "text": [
      "proportion=0.9, degree=1, Training RMSE=0.494, Testing RMSE=0.181\n",
      "proportion=0.9, degree=3, Training RMSE=0.264, Testing RMSE=0.206\n",
      "proportion=0.9, degree=7, Training RMSE=0.254, Testing RMSE=0.220\n",
      "proportion=0.9, degree=12, Training RMSE=0.242, Testing RMSE=0.250\n",
      "proportion=0.5, degree=1, Training RMSE=0.455, Testing RMSE=0.531\n",
      "proportion=0.5, degree=3, Training RMSE=0.239, Testing RMSE=0.296\n",
      "proportion=0.5, degree=7, Training RMSE=0.232, Testing RMSE=0.284\n",
      "proportion=0.5, degree=12, Training RMSE=0.205, Testing RMSE=1.065\n",
      "proportion=0.1, degree=1, Training RMSE=0.428, Testing RMSE=0.534\n",
      "proportion=0.1, degree=3, Training RMSE=0.085, Testing RMSE=0.460\n",
      "proportion=0.1, degree=7, Training RMSE=0.000, Testing RMSE=2.202\n",
      "proportion=0.1, degree=12, Training RMSE=0.000, Testing RMSE=10.218\n"
     ]
    }
   ],
   "source": [
    "seed = 6\n",
    "degrees = [1, 3, 7, 12]\n",
    "split_ratios = [0.9, 0.5, 0.1]\n",
    "\n",
    "for split_ratio in split_ratios:\n",
    "    for degree in degrees:\n",
    "        train_test_split_demo(x, y, degree, split_ratio, seed)"
   ]
  },
  {
   "cell_type": "markdown",
   "metadata": {},
   "source": [
    "# 3 Ridge Regression\n",
    "Please fill in the function below."
   ]
  },
  {
   "cell_type": "code",
   "execution_count": 22,
   "metadata": {
    "collapsed": true
   },
   "outputs": [],
   "source": [
    "def ridge_regression(y, tx, lambda_):\n",
    "    \"\"\"implement ridge regression.\"\"\"\n",
    "    # ridge regression\n",
    "    # return the optimal solution and its associated cost\n",
    "    \n",
    "    # We know that the solution for ridge regression equation\n",
    "    # is given by w* = (tx.T*tx + 2N*lambda*I)^(-1) * tx.T * y\n",
    "    \n",
    "    # calculate the SVD decomposition of temp = (tx.T*tx + 2N*lambda*I)\n",
    "    temp = np.dot(tx.T, tx) + 2*len(tx)*lambda_*np.identity(len(tx[0]))\n",
    "    \n",
    "    # calculate the inverse of temp\n",
    "    U, s, V = np.linalg.svd(temp, full_matrices=True, compute_uv=True)\n",
    "    lambdas = len(s)\n",
    "    N = len(temp)\n",
    "    D = len(temp[0])\n",
    "        \n",
    "    Sinv = np.zeros((D, N))\n",
    "    Sinv[:lambdas, :lambdas] = np.diag(1/s)\n",
    "    temp_inv = np.dot(np.dot(V.T, Sinv), U.T)\n",
    "    \n",
    "    # calculate the optimal weights\n",
    "    ws = np.dot(np.dot(temp_inv, tx.T), y)\n",
    "    \n",
    "    # calculate the cost for the optimal solution\n",
    "    loss = cts.compute_mse(y, tx, ws) + (lambda_ * sum(ws ** 2)) / 2\n",
    "    \n",
    "    return ws, loss"
   ]
  },
  {
   "cell_type": "code",
   "execution_count": 23,
   "metadata": {
    "collapsed": true
   },
   "outputs": [],
   "source": [
    "def ridge_mse(y, tx, ws, lambda_):\n",
    "    \"\"\"Calculate the loss using Ridge Mean Square Error.\n",
    "   \n",
    "    \"\"\"\n",
    "    return compute_mse(y, tx, ws) + (lambda_ * sum(ws ** 2)) / 2"
   ]
  },
  {
   "cell_type": "code",
   "execution_count": 24,
   "metadata": {
    "collapsed": true
   },
   "outputs": [],
   "source": [
    "def ridge_regression_demo(x, y, degree, ratio, seed):\n",
    "    \"\"\"ridge regression demo.\"\"\"\n",
    "    # define parameter\n",
    "    lambdas = np.logspace(-5, 0, 15)\n",
    "    \n",
    "    # split the data, and return train and test data\n",
    "    training_data, testing_data = split_data(x, y, ratio, seed)\n",
    "\n",
    "    # form train and test data with polynomial basis function\n",
    "    y_tr = training_data[1]\n",
    "    tx_tr = build_poly(training_data[0], degree)\n",
    "    \n",
    "    y_te = testing_data[1]\n",
    "    tx_te = build_poly(testing_data[0], degree)    \n",
    "\n",
    "    rmse_tr = []\n",
    "    rmse_te = []\n",
    "    for ind, lambda_ in enumerate(lambdas):\n",
    "        # ridge regression with a given lambda\n",
    "        ws, _ = ridge_regression(y_tr, tx_tr, lambda_)\n",
    "        \n",
    "        rmse_tr.append(ridge_mse(y_tr, tx_tr, ws, lambda_))\n",
    "        rmse_te.append(ridge_mse(y_te, tx_te, ws, lambda_))\n",
    "        \n",
    "        print(\"proportion={p}, degree={d}, lambda={l:.3f}, Training RMSE={tr:.3f}, Testing RMSE={te:.3f}\".format(\n",
    "               p=ratio, d=degree, l=lambda_, tr=rmse_tr[ind], te=rmse_te[ind]))\n",
    "        \n",
    "    # Plot the obtained results\n",
    "    plot_train_test(rmse_tr, rmse_te, lambdas, degree)"
   ]
  },
  {
   "cell_type": "code",
   "execution_count": 25,
   "metadata": {},
   "outputs": [
    {
     "name": "stdout",
     "output_type": "stream",
     "text": [
      "proportion=0.5, degree=7, lambda=0.000, Training RMSE=0.026, Testing RMSE=0.057\n",
      "proportion=0.5, degree=7, lambda=0.000, Training RMSE=0.026, Testing RMSE=0.057\n",
      "proportion=0.5, degree=7, lambda=0.000, Training RMSE=0.026, Testing RMSE=0.057\n",
      "proportion=0.5, degree=7, lambda=0.000, Training RMSE=0.026, Testing RMSE=0.056\n",
      "proportion=0.5, degree=7, lambda=0.000, Training RMSE=0.026, Testing RMSE=0.056\n",
      "proportion=0.5, degree=7, lambda=0.001, Training RMSE=0.026, Testing RMSE=0.056\n",
      "proportion=0.5, degree=7, lambda=0.001, Training RMSE=0.027, Testing RMSE=0.055\n",
      "proportion=0.5, degree=7, lambda=0.003, Training RMSE=0.027, Testing RMSE=0.052\n",
      "proportion=0.5, degree=7, lambda=0.007, Training RMSE=0.028, Testing RMSE=0.047\n",
      "proportion=0.5, degree=7, lambda=0.016, Training RMSE=0.030, Testing RMSE=0.042\n",
      "proportion=0.5, degree=7, lambda=0.037, Training RMSE=0.034, Testing RMSE=0.041\n",
      "proportion=0.5, degree=7, lambda=0.085, Training RMSE=0.039, Testing RMSE=0.049\n",
      "proportion=0.5, degree=7, lambda=0.193, Training RMSE=0.047, Testing RMSE=0.065\n",
      "proportion=0.5, degree=7, lambda=0.439, Training RMSE=0.054, Testing RMSE=0.084\n",
      "proportion=0.5, degree=7, lambda=1.000, Training RMSE=0.059, Testing RMSE=0.100\n"
     ]
    },
    {
     "data": {
      "image/png": "[encoded data removed]",
      "text/plain": [
       "<matplotlib.figure.Figure at 0x7f98d7f1f240>"
      ]
     },
     "metadata": {},
     "output_type": "display_data"
    }
   ],
   "source": [
    "seed = 56\n",
    "degree = 7\n",
    "split_ratio = 0.5\n",
    "ridge_regression_demo(x, y, degree, split_ratio, seed)"
   ]
  }
 ],
 "metadata": {
  "anaconda-cloud": {},
  "kernelspec": {
   "display_name": "Python 3",
   "language": "python",
   "name": "python3"
  },
  "language_info": {
   "codemirror_mode": {
    "name": "ipython",
    "version": 3
   },
   "file_extension": ".py",
   "mimetype": "text/x-python",
   "name": "python",
   "nbconvert_exporter": "python",
   "pygments_lexer": "ipython3",
   "version": "3.7.3"
  }
 },
 "nbformat": 4,
 "nbformat_minor": 1
}
