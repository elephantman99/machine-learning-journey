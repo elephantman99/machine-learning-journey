{
 "cells": [
  {
   "cell_type": "code",
   "execution_count": 1,
   "metadata": {},
   "outputs": [],
   "source": [
    "# Useful starting lines\n",
    "%matplotlib inline\n",
    "import numpy as np\n",
    "import matplotlib.pyplot as plt\n",
    "%load_ext autoreload\n",
    "%autoreload 2"
   ]
  },
  {
   "cell_type": "markdown",
   "metadata": {},
   "source": [
    "## Load data"
   ]
  },
  {
   "cell_type": "code",
   "execution_count": 2,
   "metadata": {},
   "outputs": [
    {
     "name": "stdout",
     "output_type": "stream",
     "text": [
      "/home/mbanga/Documents/Epfl/ml_revisions\n"
     ]
    }
   ],
   "source": [
    "cd ../"
   ]
  },
  {
   "cell_type": "code",
   "execution_count": 3,
   "metadata": {},
   "outputs": [],
   "source": [
    "from clustering.helper import load_data, normalize_data\n",
    "\n",
    "data = load_data()"
   ]
  },
  {
   "cell_type": "code",
   "execution_count": 5,
   "metadata": {},
   "outputs": [
    {
     "data": {
      "text/plain": [
       "(272, 2)"
      ]
     },
     "execution_count": 5,
     "metadata": {},
     "output_type": "execute_result"
    }
   ],
   "source": [
    "data.shape"
   ]
  },
  {
   "cell_type": "code",
   "execution_count": 6,
   "metadata": {},
   "outputs": [
    {
     "data": {
      "text/plain": [
       "array([ 3.48778309, 70.89705882])"
      ]
     },
     "execution_count": 6,
     "metadata": {},
     "output_type": "execute_result"
    }
   ],
   "source": [
    "np.mean(data, axis=0)"
   ]
  },
  {
   "cell_type": "markdown",
   "metadata": {},
   "source": [
    "### Initialize your cluster centers"
   ]
  },
  {
   "cell_type": "code",
   "execution_count": 7,
   "metadata": {},
   "outputs": [],
   "source": [
    "def initialize_clusters(data, k):\n",
    "    \"\"\"initialize the k cluster centers (the means).\n",
    "    input:\n",
    "        data: original data with shape (num_sample, num_feature).\n",
    "        k: predefined number of clusters for the k-means algorithm.\n",
    "    output:\n",
    "        a numpy array with shape (k, num_feature)\n",
    "    \"\"\"\n",
    "    # mean and standard deviation across each data dimension\n",
    "    mean = np.mean(data, axis=0)\n",
    "    std  = np.std(data, axis=0)\n",
    "    \n",
    "    num_feature = data.shape[1]\n",
    "    clusters = np.empty((k, num_feature))\n",
    "    # random samples from gaussian with mean\n",
    "    # and standard deviation equal to data\n",
    "    for i in range(k):\n",
    "        for j in range(num_feature):\n",
    "            s = np.random.normal(mean[j], std[j])\n",
    "            clusters[i, j] = s\n",
    "    return clusters\n",
    "    "
   ]
  },
  {
   "cell_type": "markdown",
   "metadata": {},
   "source": [
    "### Update k-means parameters"
   ]
  },
  {
   "cell_type": "markdown",
   "metadata": {},
   "source": [
    "#### Build distance matrix\n",
    "Build a distance matrix, collecting the distances of the original dataset to the means of the clusters.\n",
    "\n",
    "NOTE: once you finish your `build_distance_matrix`, please copy the function to the `helper.py` function. Otherwise, the `kmeans` function will not work."
   ]
  },
  {
   "cell_type": "code",
   "execution_count": null,
   "metadata": {
    "collapsed": true
   },
   "outputs": [],
   "source": [
    "def build_distance_matrix(data, mu):\n",
    "    \"\"\"build a distance matrix.\n",
    "    return\n",
    "        distance matrix:\n",
    "            row of the matrix represents the data point,\n",
    "            column of the matrix represents the k-th cluster.\n",
    "    \"\"\"\n",
    "    # ***************************************************\n",
    "    # INSERT YOUR CODE HERE\n",
    "    # TODO: build distance matrix\n",
    "    # ***************************************************\n",
    "    raise NotImplementedError"
   ]
  },
  {
   "cell_type": "markdown",
   "metadata": {},
   "source": [
    "#### Update k-means parameters"
   ]
  },
  {
   "cell_type": "code",
   "execution_count": null,
   "metadata": {
    "collapsed": true
   },
   "outputs": [],
   "source": [
    "def update_kmeans_parameters(data, mu_old):\n",
    "    \"\"\"update the parameter of kmeans\n",
    "    return:\n",
    "        losses: loss of each data point with shape (num_samples, 1)\n",
    "        assignments: assignments vector z with shape (num_samples, 1)\n",
    "        mu: mean vector mu with shape (k, num_features)\n",
    "    \"\"\"\n",
    "    # ***************************************************\n",
    "    # INSERT YOUR CODE HERE\n",
    "    # TODO: update kmeans parameters\n",
    "    # ***************************************************\n",
    "    raise NotImplementedError"
   ]
  },
  {
   "cell_type": "markdown",
   "metadata": {},
   "source": [
    "#### Play with k-means"
   ]
  },
  {
   "cell_type": "code",
   "execution_count": null,
   "metadata": {
    "scrolled": false
   },
   "outputs": [],
   "source": [
    "from helper import build_dir\n",
    "from plots import plot\n",
    "\n",
    "def kmeans(data, k, max_iters, threshold):\n",
    "    \"\"\"run the k-means algorithm.\"\"\"\n",
    "    output_figure = \"kmeans_figures/\"\n",
    "    # initialize the cluster.\n",
    "    mu_old = initialize_clusters(data, k)\n",
    "    # init some empty lists to store the result.\n",
    "    loss_list = []\n",
    "\n",
    "    # start the kmeans algorithm.\n",
    "    for iter in range(max_iters):\n",
    "        # update z and mu\n",
    "        losses, assignments, mu = update_kmeans_parameters(data, mu_old)\n",
    "        # calculate the average loss over all points\n",
    "        average_loss = np.mean(losses)\n",
    "        loss_list.append(average_loss)\n",
    "        print(\"The current iteration of k-means is: {i}, \\\n",
    "               the average loss is {l}.\".format(i=iter, l=average_loss))\n",
    "        # check converge\n",
    "        if iter > 0 and np.abs(loss_list[-1] - loss_list[-2]) < threshold:\n",
    "            break\n",
    "        # output plot\n",
    "        plot(data, mu, mu_old, output_figure + \"kmean_iter{i}\".format(i=iter))\n",
    "        # update k-means information.\n",
    "        mu_old = mu\n",
    "\n",
    "# define parameters\n",
    "k = 2\n",
    "max_iters = 10\n",
    "threshold = 1e-5\n",
    "output_figure = \"kmeans_figures/\"\n",
    "\n",
    "# build figure dir\n",
    "build_dir(output_figure)\n",
    "\n",
    "# run kmeans algorithm\n",
    "kmeans(data, k, max_iters, threshold)"
   ]
  },
  {
   "cell_type": "markdown",
   "metadata": {},
   "source": [
    "## Using k-means for image compresson"
   ]
  },
  {
   "cell_type": "markdown",
   "metadata": {},
   "source": [
    "#### load image"
   ]
  },
  {
   "cell_type": "code",
   "execution_count": null,
   "metadata": {},
   "outputs": [],
   "source": [
    "from helper import load_image\n",
    "\n",
    "image_path = \"mandrill.png\"\n",
    "original_image = load_image(image_path)\n",
    "print(\n",
    "    \"Original image: the shape of image={s}, the data type={dt}.\".format(\n",
    "        s=original_image.shape, dt=original_image.dtype))"
   ]
  },
  {
   "cell_type": "markdown",
   "metadata": {},
   "source": [
    "#### preprocess image"
   ]
  },
  {
   "cell_type": "code",
   "execution_count": null,
   "metadata": {},
   "outputs": [],
   "source": [
    "def preprocess_image(original_image):\n",
    "    \"\"\"preprocess the image.\"\"\"\n",
    "    # ***************************************************\n",
    "    # INSERT YOUR CODE HERE\n",
    "    # TODO: vectorize and normalize the original_image.\n",
    "    # ***************************************************  \n",
    "    return processed_image\n",
    "\n",
    "processed_image = preprocess_image(original_image)"
   ]
  },
  {
   "cell_type": "code",
   "execution_count": null,
   "metadata": {},
   "outputs": [],
   "source": [
    "from plots import plot_image_compression\n",
    "\n",
    "def kmean_compression(original_image, processed_image, k, max_iters, threshold):\n",
    "    \"\"\"using k-means for image compression.\"\"\"\n",
    "    # ***************************************************\n",
    "    # INSERT YOUR CODE HERE\n",
    "    # TODO: use kmean to compress the image.\n",
    "    # *************************************************** \n",
    "    raise NotImplementedError\n",
    "\n",
    "    # plot histgram\n",
    "    plot_image_compression(original_image, processed_image, assignments, mu, k)\n",
    "\n",
    "# define parameters\n",
    "k = 5\n",
    "max_iter = 100\n",
    "threshold = 1e-6\n",
    "\n",
    "# use kmeans to compress image\n",
    "kmean_compression(original_image, processed_image, k, max_iter, threshold)"
   ]
  },
  {
   "cell_type": "code",
   "execution_count": null,
   "metadata": {
    "collapsed": true
   },
   "outputs": [],
   "source": []
  }
 ],
 "metadata": {
  "anaconda-cloud": {},
  "kernelspec": {
   "display_name": "machine-learning",
   "language": "python",
   "name": "machine-learning"
  },
  "language_info": {
   "codemirror_mode": {
    "name": "ipython",
    "version": 3
   },
   "file_extension": ".py",
   "mimetype": "text/x-python",
   "name": "python",
   "nbconvert_exporter": "python",
   "pygments_lexer": "ipython3",
   "version": "3.7.3"
  }
 },
 "nbformat": 4,
 "nbformat_minor": 1
}
