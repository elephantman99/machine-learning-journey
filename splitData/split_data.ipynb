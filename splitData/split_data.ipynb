{
 "cells": [
  {
   "cell_type": "code",
   "execution_count": 1,
   "metadata": {},
   "outputs": [],
   "source": [
    "# Useful starting lines\n",
    "%matplotlib inline\n",
    "import numpy as np\n",
    "import matplotlib.pyplot as plt\n",
    "%load_ext autoreload\n",
    "%autoreload 2"
   ]
  },
  {
   "cell_type": "code",
   "execution_count": 2,
   "metadata": {},
   "outputs": [
    {
     "name": "stdout",
     "output_type": "stream",
     "text": [
      "/home/mbanga/Documents/Epfl/ml_revisions\n"
     ]
    }
   ],
   "source": [
    "cd ../"
   ]
  },
  {
   "cell_type": "markdown",
   "metadata": {},
   "source": [
    "# Load data"
   ]
  },
  {
   "cell_type": "code",
   "execution_count": 3,
   "metadata": {},
   "outputs": [
    {
     "name": "stdout",
     "output_type": "stream",
     "text": [
      "shape of x (50,)\n",
      "shape of y (50,)\n"
     ]
    }
   ],
   "source": [
    "from leastSquares.helpers import load_data\n",
    "from leastSquares.least_squares import least_squares\n",
    "from linearRegression_gradientDescent import costs as cts\n",
    "# load dataset\n",
    "x, y = load_data()\n",
    "print(\"shape of x {v}\".format(v=x.shape))\n",
    "print(\"shape of y {v}\".format(v=y.shape))"
   ]
  },
  {
   "cell_type": "code",
   "execution_count": 4,
   "metadata": {},
   "outputs": [],
   "source": [
    "from leastSquares.build_polynomial import build_poly\n",
    "from math import ceil\n",
    "\n",
    "degree = 2\n",
    "tx = build_poly(x, degree)"
   ]
  },
  {
   "cell_type": "code",
   "execution_count": 5,
   "metadata": {},
   "outputs": [],
   "source": [
    "def split_data(x, y, ratio, seed=1, shuffle=True):\n",
    "    \"\"\"\n",
    "    split the dataset based on the split ratio. If ratio is 0.8 \n",
    "    you will have 80% of your data set dedicated to training \n",
    "    and the rest dedicated to testing\n",
    "    \"\"\"\n",
    "    # set seed\n",
    "    np.random.seed(seed)\n",
    "    \n",
    "    data_size = len(y)\n",
    "    \n",
    "    if shuffle:\n",
    "        shuffled_indices = np.random.permutation(np.arange(data_size))\n",
    "        shuffled_x = x[shuffled_indices]\n",
    "        shuffled_y = y[shuffled_indices]\n",
    "    else:\n",
    "        shuffled_x = x\n",
    "        shuffled_y = y\n",
    "    \n",
    "    cut = ceil(data_size * ratio)\n",
    "    x_train, y_train = shuffled_x[:cut], shuffled_y[:cut]\n",
    "    x_test, y_test   = shuffled_x[cut:], shuffled_y[cut:]\n",
    "    \n",
    "    return (x_train, y_train), (x_test, y_test)"
   ]
  },
  {
   "cell_type": "code",
   "execution_count": 6,
   "metadata": {},
   "outputs": [],
   "source": [
    "def train_test_split_demo(x, y, degrees, ratios, seed, shuffle):\n",
    "    \"\"\"polynomial regression with different split ratios and different degrees.\"\"\"\n",
    "    \n",
    "    \n",
    "    for ratio in ratios:\n",
    "        for degree in degrees:      \n",
    "            # split the data, and return train and test data\n",
    "            data_train, data_test = split_data(x, y, ratio, seed, shuffle)\n",
    "            \n",
    "            # train data with polynomial basis\n",
    "            x_train, y_train = data_train\n",
    "            x_train = build_poly(x_train, degree)\n",
    "\n",
    "            # test data with polynomial basis\n",
    "            x_test, y_test = data_test\n",
    "            x_test = build_poly(x_test, degree)\n",
    "\n",
    "            # least squares\n",
    "            _, weights = least_squares(y_train, x_train)\n",
    "\n",
    "            # calculate RMSE \n",
    "            rmse_train = cts.compute_rmse(y_train, x_train, weights)\n",
    "            rmse_test = cts.compute_rmse(y_test, x_test, weights)\n",
    "\n",
    "            # print the results\n",
    "            print(\"proportion={p}, degree={d}, Training RMSE={tr:.3f}, Testing RMSE={te:.3f}\".format(\n",
    "                  p=ratio, d=degree, tr=rmse_train, te=rmse_test))\n"
   ]
  },
  {
   "cell_type": "code",
   "execution_count": 7,
   "metadata": {},
   "outputs": [
    {
     "name": "stdout",
     "output_type": "stream",
     "text": [
      "proportion=0.9, degree=3, Training RMSE=0.264, Testing RMSE=0.214\n",
      "proportion=0.9, degree=7, Training RMSE=0.257, Testing RMSE=0.189\n",
      "proportion=0.9, degree=12, Training RMSE=0.246, Testing RMSE=0.294\n",
      "proportion=0.5, degree=3, Training RMSE=0.237, Testing RMSE=0.306\n",
      "proportion=0.5, degree=7, Training RMSE=0.218, Testing RMSE=0.336\n",
      "proportion=0.5, degree=12, Training RMSE=0.187, Testing RMSE=2.435\n",
      "proportion=0.1, degree=3, Training RMSE=0.111, Testing RMSE=0.674\n",
      "proportion=0.1, degree=7, Training RMSE=0.000, Testing RMSE=1.858\n",
      "proportion=0.1, degree=12, Training RMSE=0.000, Testing RMSE=929.616\n"
     ]
    }
   ],
   "source": [
    "seed = 1\n",
    "shuffle = True\n",
    "ratios = [.9, .5, .1]\n",
    "degrees = [3, 7, 12]\n",
    "\n",
    "train_test_split_demo(x, y, degrees, ratios, seed, shuffle)"
   ]
  }
 ],
 "metadata": {
  "kernelspec": {
   "display_name": "machine-learning",
   "language": "python",
   "name": "machine-learning"
  },
  "language_info": {
   "codemirror_mode": {
    "name": "ipython",
    "version": 3
   },
   "file_extension": ".py",
   "mimetype": "text/x-python",
   "name": "python",
   "nbconvert_exporter": "python",
   "pygments_lexer": "ipython3",
   "version": "3.7.3"
  }
 },
 "nbformat": 4,
 "nbformat_minor": 2
}
