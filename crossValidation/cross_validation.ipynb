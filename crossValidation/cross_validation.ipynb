{
 "cells": [
  {
   "cell_type": "code",
   "execution_count": 1,
   "metadata": {},
   "outputs": [],
   "source": [
    "# useful starting line \n",
    "%matplotlib inline\n",
    "import numpy as np\n",
    "import matplotlib.pyplot as plt\n",
    "%load_ext autoreload\n",
    "%autoreload 2"
   ]
  },
  {
   "cell_type": "code",
   "execution_count": 2,
   "metadata": {},
   "outputs": [
    {
     "name": "stdout",
     "output_type": "stream",
     "text": [
      "/home/mbanga/Documents/Epfl/ml_revisions\n"
     ]
    }
   ],
   "source": [
    "cd ../"
   ]
  },
  {
   "cell_type": "markdown",
   "metadata": {},
   "source": [
    "# Load Data"
   ]
  },
  {
   "cell_type": "code",
   "execution_count": 3,
   "metadata": {},
   "outputs": [
    {
     "name": "stdout",
     "output_type": "stream",
     "text": [
      "shape of x (50,)\n",
      "shape of y (50,)\n"
     ]
    }
   ],
   "source": [
    "from leastSquares.helpers import load_data\n",
    "from leastSquares.least_squares import least_squares\n",
    "from linearRegression_gradientDescent import costs as cts\n",
    "# load dataset\n",
    "x, y = load_data()\n",
    "print(\"shape of x {v}\".format(v=x.shape))\n",
    "print(\"shape of y {v}\".format(v=y.shape))"
   ]
  },
  {
   "cell_type": "markdown",
   "metadata": {},
   "source": [
    "# Cross-Validation and Bias-Variance decomposition\n",
    "## Cross-Validation\n",
    "Implementing 4-fold cross-validation below:"
   ]
  },
  {
   "cell_type": "code",
   "execution_count": 11,
   "metadata": {},
   "outputs": [],
   "source": [
    "def kfold_iter(y, tx, k, seed=1, shuffle=True):\n",
    "    \"\"\"Generate a fold iterator for a dataset.\"\"\"\n",
    "    np.random.seed(seed)\n",
    "    \n",
    "    data_size = len(y)\n",
    "    \n",
    "    if shuffle == True:\n",
    "        shuffled_indices = np.random.permutation(np.arange(data_size))\n",
    "        shuffled_tx = tx[shuffled_indices]\n",
    "        shuffled_y = y[shuffled_indices]\n",
    "    else:\n",
    "        shuffled_tx = tx\n",
    "        shuffled_y = y\n",
    "        \n",
    "    fold_size = ceil(data_size / k)\n",
    "    for fold_num in range(k):\n",
    "        start_index = fold_num * fold_size\n",
    "        end_index = min((fold_num+1) * fold_size, data_size)\n",
    "        mask = np.array([i in np.arange(start_index, end_index) for i in range(data_size)])\n",
    "        data_test = (shuffled_tx[mask], shuffled_y[mask])\n",
    "        data_train = (shuffled_tx[~mask], shuffled_y[~mask])\n",
    "        yield data_train, data_test"
   ]
  },
  {
   "cell_type": "code",
   "execution_count": 16,
   "metadata": {},
   "outputs": [],
   "source": [
    "from leastSquares.build_polynomial import build_poly\n",
    "from splitData.split import split_data\n",
    "from ridgeRegression import ridge_regression\n",
    "from linearRegression_gradientDescent.helpers import batch_iter\n",
    "from math import ceil\n",
    "\n",
    "def cross_validation(y, tx, k, lambda_):\n",
    "    \"\"\"return the loss of ridge regression.\"\"\"\n",
    "    N, D = tx.shape\n",
    "    \n",
    "    ws = np.zeros((k, D))\n",
    "    losses_train = []\n",
    "    losses_test  = []\n",
    "    for i, data in enumerate(kfold_iter(y, tx, k)):       \n",
    "        data_train, data_test = data\n",
    "        # get train and test data \n",
    "        tx_train, y_train = data_train\n",
    "        tx_test, y_test = data_test\n",
    "        # find optimal weights (ridge regression)\n",
    "        loss_train, w_star = ridge_regression(y_train, tx_train, lambda_)\n",
    "        loss_test = cts.ridge_mse(y_test, tx_test, w_star, lambda_)\n",
    "        # update\n",
    "        ws[i, :] = w_star\n",
    "        losses_train.append(loss_train)\n",
    "        losses_test.append(loss_test)\n",
    "    # aggregate weights across each iteration\n",
    "#     w_star = np.mean(ws, axis=0)\n",
    "    \n",
    "    return losses_train, losses_test, ws"
   ]
  },
  {
   "cell_type": "code",
   "execution_count": 17,
   "metadata": {},
   "outputs": [
    {
     "ename": "TypeError",
     "evalue": "'module' object is not callable",
     "output_type": "error",
     "traceback": [
      "\u001b[0;31m---------------------------------------------------------------------------\u001b[0m",
      "\u001b[0;31mTypeError\u001b[0m                                 Traceback (most recent call last)",
      "\u001b[0;32m<ipython-input-17-ec4318e771ee>\u001b[0m in \u001b[0;36m<module>\u001b[0;34m\u001b[0m\n\u001b[1;32m      4\u001b[0m \u001b[0mtx\u001b[0m \u001b[0;34m=\u001b[0m \u001b[0mbuild_poly\u001b[0m\u001b[0;34m(\u001b[0m\u001b[0mx\u001b[0m\u001b[0;34m,\u001b[0m \u001b[0mdegree\u001b[0m\u001b[0;34m)\u001b[0m\u001b[0;34m\u001b[0m\u001b[0;34m\u001b[0m\u001b[0m\n\u001b[1;32m      5\u001b[0m \u001b[0;34m\u001b[0m\u001b[0m\n\u001b[0;32m----> 6\u001b[0;31m \u001b[0mcross_validation\u001b[0m\u001b[0;34m(\u001b[0m\u001b[0my\u001b[0m\u001b[0;34m,\u001b[0m \u001b[0mtx\u001b[0m\u001b[0;34m,\u001b[0m \u001b[0mk\u001b[0m\u001b[0;34m,\u001b[0m \u001b[0mlambda_\u001b[0m\u001b[0;34m)\u001b[0m\u001b[0;34m\u001b[0m\u001b[0;34m\u001b[0m\u001b[0m\n\u001b[0m",
      "\u001b[0;32m<ipython-input-16-0dfbb14a2963>\u001b[0m in \u001b[0;36mcross_validation\u001b[0;34m(y, tx, k, lambda_)\u001b[0m\n\u001b[1;32m     18\u001b[0m         \u001b[0mtx_test\u001b[0m\u001b[0;34m,\u001b[0m \u001b[0my_test\u001b[0m \u001b[0;34m=\u001b[0m \u001b[0mdata_test\u001b[0m\u001b[0;34m\u001b[0m\u001b[0;34m\u001b[0m\u001b[0m\n\u001b[1;32m     19\u001b[0m         \u001b[0;31m# find optimal weights (ridge regression)\u001b[0m\u001b[0;34m\u001b[0m\u001b[0;34m\u001b[0m\u001b[0;34m\u001b[0m\u001b[0m\n\u001b[0;32m---> 20\u001b[0;31m         \u001b[0mloss_train\u001b[0m\u001b[0;34m,\u001b[0m \u001b[0mw_star\u001b[0m \u001b[0;34m=\u001b[0m \u001b[0mridge_regression\u001b[0m\u001b[0;34m(\u001b[0m\u001b[0my_train\u001b[0m\u001b[0;34m,\u001b[0m \u001b[0mtx_train\u001b[0m\u001b[0;34m,\u001b[0m \u001b[0mlambda_\u001b[0m\u001b[0;34m)\u001b[0m\u001b[0;34m\u001b[0m\u001b[0;34m\u001b[0m\u001b[0m\n\u001b[0m\u001b[1;32m     21\u001b[0m         \u001b[0mloss_test\u001b[0m \u001b[0;34m=\u001b[0m \u001b[0mcts\u001b[0m\u001b[0;34m.\u001b[0m\u001b[0mridge_mse\u001b[0m\u001b[0;34m(\u001b[0m\u001b[0my_test\u001b[0m\u001b[0;34m,\u001b[0m \u001b[0mtx_test\u001b[0m\u001b[0;34m,\u001b[0m \u001b[0mw_star\u001b[0m\u001b[0;34m,\u001b[0m \u001b[0mlambda_\u001b[0m\u001b[0;34m)\u001b[0m\u001b[0;34m\u001b[0m\u001b[0;34m\u001b[0m\u001b[0m\n\u001b[1;32m     22\u001b[0m         \u001b[0;31m# update\u001b[0m\u001b[0;34m\u001b[0m\u001b[0;34m\u001b[0m\u001b[0;34m\u001b[0m\u001b[0m\n",
      "\u001b[0;31mTypeError\u001b[0m: 'module' object is not callable"
     ]
    }
   ],
   "source": [
    "degree = 5\n",
    "k = 4\n",
    "lambda_ = 2\n",
    "tx = build_poly(x, degree)\n",
    "\n",
    "cross_validation(y, tx, k, lambda_)"
   ]
  }
 ],
 "metadata": {
  "kernelspec": {
   "display_name": "machine-learning",
   "language": "python",
   "name": "machine-learning"
  },
  "language_info": {
   "codemirror_mode": {
    "name": "ipython",
    "version": 3
   },
   "file_extension": ".py",
   "mimetype": "text/x-python",
   "name": "python",
   "nbconvert_exporter": "python",
   "pygments_lexer": "ipython3",
   "version": "3.7.3"
  }
 },
 "nbformat": 4,
 "nbformat_minor": 2
}
