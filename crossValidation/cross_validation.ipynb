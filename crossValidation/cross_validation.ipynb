{
 "cells": [
  {
   "cell_type": "code",
   "execution_count": 1,
   "metadata": {},
   "outputs": [],
   "source": [
    "# useful starting line \n",
    "%matplotlib inline\n",
    "import numpy as np\n",
    "import matplotlib.pyplot as plt\n",
    "%load_ext autoreload\n",
    "%autoreload 2"
   ]
  },
  {
   "cell_type": "code",
   "execution_count": 2,
   "metadata": {},
   "outputs": [
    {
     "name": "stdout",
     "output_type": "stream",
     "text": [
      "/home/mbanga/Documents/Epfl/ml_revisions\n"
     ]
    }
   ],
   "source": [
    "cd ../"
   ]
  },
  {
   "cell_type": "markdown",
   "metadata": {},
   "source": [
    "# Load Data"
   ]
  },
  {
   "cell_type": "code",
   "execution_count": 3,
   "metadata": {},
   "outputs": [
    {
     "name": "stdout",
     "output_type": "stream",
     "text": [
      "shape of x (50,)\n",
      "shape of y (50,)\n"
     ]
    }
   ],
   "source": [
    "from leastSquares.helpers import load_data\n",
    "from leastSquares.least_squares import least_squares\n",
    "from linearRegression_gradientDescent import costs as cts\n",
    "# load dataset\n",
    "x, y = load_data()\n",
    "print(\"shape of x {v}\".format(v=x.shape))\n",
    "print(\"shape of y {v}\".format(v=y.shape))"
   ]
  },
  {
   "cell_type": "markdown",
   "metadata": {},
   "source": [
    "# Cross-Validation and Bias-Variance decomposition\n",
    "## Cross-Validation\n",
    "Implementing 4-fold cross-validation below:"
   ]
  },
  {
   "cell_type": "code",
   "execution_count": 4,
   "metadata": {},
   "outputs": [],
   "source": [
    "def kfold_iter(y, tx, k, seed=1, shuffle=True):\n",
    "    \"\"\"Generate a fold iterator for a dataset.\"\"\"\n",
    "    np.random.seed(seed)\n",
    "    \n",
    "    data_size = len(y)\n",
    "    \n",
    "    if shuffle == True:\n",
    "        shuffled_indices = np.random.permutation(np.arange(data_size))\n",
    "        shuffled_tx = tx[shuffled_indices]\n",
    "        shuffled_y = y[shuffled_indices]\n",
    "    else:\n",
    "        shuffled_tx = tx\n",
    "        shuffled_y = y\n",
    "        \n",
    "    fold_size = ceil(data_size / k)\n",
    "    for fold_num in range(k):\n",
    "        start_index = fold_num * fold_size\n",
    "        end_index = min((fold_num+1) * fold_size, data_size)\n",
    "        mask = np.array([i in np.arange(start_index, end_index) for i in range(data_size)])\n",
    "        data_test = (shuffled_tx[mask], shuffled_y[mask])\n",
    "        data_train = (shuffled_tx[~mask], shuffled_y[~mask])\n",
    "        yield data_train, data_test"
   ]
  },
  {
   "cell_type": "code",
   "execution_count": 5,
   "metadata": {},
   "outputs": [],
   "source": [
    "from leastSquares.build_polynomial import build_poly\n",
    "from ridgeRegression.ridge_regression import ridge_regression\n",
    "from math import ceil\n",
    "\n",
    "def cross_validation(y, tx, k, lambda_):\n",
    "    \"\"\"return the loss of ridge regression.\"\"\"\n",
    "    N, D = tx.shape\n",
    "    \n",
    "    ws = np.zeros((k, D))\n",
    "    rmse_train = []\n",
    "    rmse_test  = []\n",
    "    for i, data in enumerate(kfold_iter(y, tx, k)):       \n",
    "        data_train, data_test = data\n",
    "        # get train and test data \n",
    "        tx_train, y_train = data_train\n",
    "        tx_test, y_test = data_test\n",
    "        # find optimal weights (ridge regression)\n",
    "        loss_train, w_star = ridge_regression(y_train, tx_train, lambda_)\n",
    "        loss_test = cts.ridge_mse(y_test, tx_test, w_star, lambda_)\n",
    "        # update\n",
    "        ws[i, :] = w_star\n",
    "        rmse_train.append(loss_train)\n",
    "        rmse_test.append(loss_test)\n",
    "    # aggregate weights across each iteration\n",
    "#     w_star = np.mean(ws, axis=0)\n",
    "    \n",
    "    return rmse_train, rmse_test, ws"
   ]
  },
  {
   "cell_type": "code",
   "execution_count": 9,
   "metadata": {},
   "outputs": [],
   "source": [
    "from crossValidation.plots import cross_validation_visualization\n",
    "\n",
    "def cross_validation_demo(y, tx, seed = 1,\n",
    "                                 k_fold = 4,\n",
    "                                 lambdas = np.logspace(-4, 0, 30)):\n",
    "    \n",
    "    # define lists to store the loss of training data and test data\n",
    "    rmse_tr = []\n",
    "    rmse_te = []\n",
    "    \n",
    "    # cross validation\n",
    "    for lambda_ in lambdas:\n",
    "        l_tr, l_te, _ = cross_validation(y, tx, k_fold, lambda_)\n",
    "        rmse_tr.append(np.mean(l_tr))\n",
    "        rmse_te.append(np.mean(l_te))\n",
    "\n",
    "    cross_validation_visualization(lambdas, rmse_tr, rmse_te)"
   ]
  },
  {
   "cell_type": "code",
   "execution_count": 10,
   "metadata": {},
   "outputs": [
    {
     "data": {
      "image/png": "[encoded data removed]",
      "text/plain": [
       "<Figure size 432x288 with 1 Axes>"
      ]
     },
     "metadata": {
      "needs_background": "light"
     },
     "output_type": "display_data"
    }
   ],
   "source": [
    "degree = 7\n",
    "\n",
    "tx = build_poly(x, degree)\n",
    "cross_validation_demo(y, tx)"
   ]
  },
  {
   "cell_type": "code",
   "execution_count": 13,
   "metadata": {},
   "outputs": [],
   "source": [
    "def extended_cross_validation_demo(y, tx, seed = 1,\n",
    "                                 k_fold = 4,\n",
    "                                 lambdas = np.logspace(-4, 0, 20)):\n",
    "    \n",
    "    # define lists to store the loss of training data and test data\n",
    "    rmse_tr = []\n",
    "    rmse_te = []\n",
    "    \n",
    "    # cross validation\n",
    "    for lambda_ in lambdas:\n",
    "        l_tr, l_te, _ = cross_validation(y, tx, k_fold, lambda_)\n",
    "        rmse_tr.append(l_tr)\n",
    "        rmse_te.append(l_te)\n",
    "\n",
    "    plt.boxplot(rmse_te)"
   ]
  },
  {
   "cell_type": "code",
   "execution_count": 14,
   "metadata": {},
   "outputs": [
    {
     "data": {
      "image/png": "[encoded data removed]",
      "text/plain": [
       "<Figure size 432x288 with 1 Axes>"
      ]
     },
     "metadata": {
      "needs_background": "light"
     },
     "output_type": "display_data"
    }
   ],
   "source": [
    "extended_cross_validation_demo(y, tx)"
   ]
  }
 ],
 "metadata": {
  "kernelspec": {
   "display_name": "machine-learning",
   "language": "python",
   "name": "machine-learning"
  },
  "language_info": {
   "codemirror_mode": {
    "name": "ipython",
    "version": 3
   },
   "file_extension": ".py",
   "mimetype": "text/x-python",
   "name": "python",
   "nbconvert_exporter": "python",
   "pygments_lexer": "ipython3",
   "version": "3.7.3"
  }
 },
 "nbformat": 4,
 "nbformat_minor": 2
}
